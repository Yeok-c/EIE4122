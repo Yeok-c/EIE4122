{
  "nbformat": 4,
  "nbformat_minor": 0,
  "metadata": {
    "colab": {
      "name": "mnist-keras.ipynb",
      "provenance": [],
      "authorship_tag": "ABX9TyMt95X46du938+om8R5BaS3",
      "include_colab_link": true
    },
    "kernelspec": {
      "name": "python3",
      "display_name": "Python 3"
    },
    "language_info": {
      "name": "python"
    }
  },
  "cells": [
    {
      "cell_type": "markdown",
      "metadata": {
        "id": "view-in-github",
        "colab_type": "text"
      },
      "source": [
        "<a href=\"https://colab.research.google.com/github/enmwmak/EIE4122/blob/main/mnist_keras.ipynb\" target=\"_parent\"><img src=\"https://colab.research.google.com/assets/colab-badge.svg\" alt=\"Open In Colab\"/></a>"
      ]
    },
    {
      "cell_type": "code",
      "metadata": {
        "id": "ZtM8ErN28o_p"
      },
      "source": [
        "from __future__ import print_function\n",
        "import keras\n",
        "from keras.datasets import mnist\n",
        "from keras.models import Sequential\n",
        "from keras.layers import Dense, Dropout, Flatten\n",
        "from keras.layers import Conv2D, MaxPooling2D\n",
        "from keras.layers import BatchNormalization\n",
        "from keras.losses import categorical_crossentropy\n",
        "import tensorflow as tf\n",
        "import numpy as np\n",
        "import matplotlib.pyplot as plt\n",
        "from keras import backend as K\n",
        "from tensorflow.keras.utils import to_categorical\n",
        "from tensorflow.python.keras.backend import eager_learning_phase_scope"
      ],
      "execution_count": 72,
      "outputs": []
    },
    {
      "cell_type": "code",
      "metadata": {
        "id": "7nQQothQ967I"
      },
      "source": [
        "# Define constants\n",
        "batch_size = 128\n",
        "num_classes = 10\n",
        "epochs = 10\n",
        "reduced_data = False\n",
        "n_feamap = 16"
      ],
      "execution_count": 73,
      "outputs": []
    },
    {
      "cell_type": "code",
      "metadata": {
        "id": "xbRJCNGx_hXN"
      },
      "source": [
        "def load_data():\n",
        "    img_rows, img_cols = 28, 28\n",
        "\n",
        "    # Load data, shuffled and split between train and test sets\n",
        "    (x_train, y_train), (x_test, y_test) = mnist.load_data()\n",
        "\n",
        "    if K.image_data_format() == 'channels_first':\n",
        "        x_train = x_train.reshape(x_train.shape[0], 1, img_rows, img_cols)\n",
        "        x_test = x_test.reshape(x_test.shape[0], 1, img_rows, img_cols)\n",
        "        input_shape = (1, img_rows, img_cols)\n",
        "    else:\n",
        "        x_train = x_train.reshape(x_train.shape[0], img_rows, img_cols, 1)\n",
        "        x_test = x_test.reshape(x_test.shape[0], img_rows, img_cols, 1)\n",
        "        input_shape = (img_rows, img_cols, 1)\n",
        "\n",
        "    # Use 2500 training samples only\n",
        "    if reduced_data is True:\n",
        "        idx = np.random.randint(0, x_train.shape[0], 2500)\n",
        "        x_train = x_train[idx]\n",
        "        y_train = y_train[idx]\n",
        "\n",
        "    # Scale the data to [0,1]\n",
        "    x_train = x_train.astype('float32')\n",
        "    x_test = x_test.astype('float32')\n",
        "    x_train /= 255.0\n",
        "    x_test /= 255.0\n",
        "\n",
        "    return x_train, y_train, x_test, y_test, input_shape"
      ],
      "execution_count": 39,
      "outputs": []
    },
    {
      "cell_type": "code",
      "metadata": {
        "id": "AxVML1BzAEix"
      },
      "source": [
        "def define_cnn_model(input_shape):\n",
        "    model = Sequential()\n",
        "    model.add(Conv2D(n_feamap, kernel_size=(3, 3), activation='relu', input_shape=input_shape))\n",
        "    model.add(Conv2D(n_feamap, kernel_size=(3, 3), activation='relu'))\n",
        "    model.add(MaxPooling2D(pool_size=(2, 2)))\n",
        "    model.add(Conv2D(n_feamap, kernel_size=(3, 3), activation='relu'))\n",
        "    model.add(MaxPooling2D(pool_size=(2, 2)))\n",
        "    model.add(Flatten())\n",
        "    for i in range(0,3):\n",
        "        model.add(Dense(64, activation='relu'))\n",
        "        model.add(BatchNormalization())\n",
        "        model.add(Dropout(0.5))\n",
        "    model.add(Dense(num_classes, activation='softmax'))\n",
        "    model.summary()\n",
        "    return model"
      ],
      "execution_count": 42,
      "outputs": []
    },
    {
      "cell_type": "code",
      "metadata": {
        "id": "NCK695WcDgdG"
      },
      "source": [
        "def plot_image(data):\n",
        "    x = data[4].reshape(1, 28, 28, 1)\n",
        "    plt.figure()\n",
        "    plt.imshow(x[0, :, :, 0])\n",
        "    plt.show(block=False)"
      ],
      "execution_count": 36,
      "outputs": []
    },
    {
      "cell_type": "code",
      "metadata": {
        "id": "b8KtJ9_0-QoB"
      },
      "source": [
        "def main():\n",
        "    \n",
        "    x_train, y_train, x_test, y_test, input_shape = load_data()\n",
        "    print('x_train shape:', x_train.shape)\n",
        "    print(x_train.shape[0], 'train samples')\n",
        "    print(x_test.shape[0], 'test samples')\n",
        "\n",
        "    # Convert class vectors to binary class matrices\n",
        "    y_train = to_categorical(y_train, num_classes)\n",
        "    y_test = to_categorical(y_test, num_classes)\n",
        "\n",
        "    # Define CNN\n",
        "    model = define_cnn_model(input_shape)\n",
        "\n",
        "    # Compile the CNN\n",
        "    model.compile(loss=categorical_crossentropy, \n",
        "                  optimizer='rmsprop', metrics=['accuracy'])\n",
        "\n",
        "    # Train the CNN\n",
        "    model.fit(x_train, y_train, batch_size=batch_size, epochs=epochs, verbose=1,\n",
        "              shuffle=False, validation_data=(x_test, y_test))\n",
        "\n",
        "    # Save the model\n",
        "    model.save('models/mnist_cnn1.h5')\n",
        "\n",
        "    # Evalute the CNN\n",
        "    score = model.evaluate(x_test, y_test, verbose=0)\n",
        "    print('Test loss:', score[0])\n",
        "    print('Test accuracy: %.2f%%' % (score[1]*100))\n",
        "\n",
        "    # Plot image\n",
        "    plot_image(x_test)    "
      ],
      "execution_count": 70,
      "outputs": []
    },
    {
      "cell_type": "code",
      "metadata": {
        "colab": {
          "base_uri": "https://localhost:8080/",
          "height": 1000
        },
        "id": "_TL0e5oJ-nr_",
        "outputId": "79099935-7ea0-43ec-cfe0-df5832c575b6"
      },
      "source": [
        "main()"
      ],
      "execution_count": 74,
      "outputs": [
        {
          "output_type": "stream",
          "text": [
            "x_train shape: (60000, 28, 28, 1)\n",
            "60000 train samples\n",
            "10000 test samples\n",
            "Model: \"sequential_16\"\n",
            "_________________________________________________________________\n",
            "Layer (type)                 Output Shape              Param #   \n",
            "=================================================================\n",
            "conv2d_42 (Conv2D)           (None, 26, 26, 16)        160       \n",
            "_________________________________________________________________\n",
            "conv2d_43 (Conv2D)           (None, 24, 24, 16)        2320      \n",
            "_________________________________________________________________\n",
            "max_pooling2d_28 (MaxPooling (None, 12, 12, 16)        0         \n",
            "_________________________________________________________________\n",
            "conv2d_44 (Conv2D)           (None, 10, 10, 16)        2320      \n",
            "_________________________________________________________________\n",
            "max_pooling2d_29 (MaxPooling (None, 5, 5, 16)          0         \n",
            "_________________________________________________________________\n",
            "flatten_14 (Flatten)         (None, 400)               0         \n",
            "_________________________________________________________________\n",
            "dense_56 (Dense)             (None, 64)                25664     \n",
            "_________________________________________________________________\n",
            "batch_normalization_42 (Batc (None, 64)                256       \n",
            "_________________________________________________________________\n",
            "dropout_42 (Dropout)         (None, 64)                0         \n",
            "_________________________________________________________________\n",
            "dense_57 (Dense)             (None, 64)                4160      \n",
            "_________________________________________________________________\n",
            "batch_normalization_43 (Batc (None, 64)                256       \n",
            "_________________________________________________________________\n",
            "dropout_43 (Dropout)         (None, 64)                0         \n",
            "_________________________________________________________________\n",
            "dense_58 (Dense)             (None, 64)                4160      \n",
            "_________________________________________________________________\n",
            "batch_normalization_44 (Batc (None, 64)                256       \n",
            "_________________________________________________________________\n",
            "dropout_44 (Dropout)         (None, 64)                0         \n",
            "_________________________________________________________________\n",
            "dense_59 (Dense)             (None, 10)                650       \n",
            "=================================================================\n",
            "Total params: 40,202\n",
            "Trainable params: 39,818\n",
            "Non-trainable params: 384\n",
            "_________________________________________________________________\n",
            "Epoch 1/10\n",
            "469/469 [==============================] - 56s 115ms/step - loss: 0.8613 - accuracy: 0.7225 - val_loss: 0.1110 - val_accuracy: 0.9677\n",
            "Epoch 2/10\n",
            "469/469 [==============================] - 53s 113ms/step - loss: 0.2552 - accuracy: 0.9255 - val_loss: 0.1377 - val_accuracy: 0.9624\n",
            "Epoch 3/10\n",
            "469/469 [==============================] - 52s 111ms/step - loss: 0.1786 - accuracy: 0.9510 - val_loss: 0.0676 - val_accuracy: 0.9799\n",
            "Epoch 4/10\n",
            "469/469 [==============================] - 52s 111ms/step - loss: 0.1428 - accuracy: 0.9615 - val_loss: 0.0679 - val_accuracy: 0.9833\n",
            "Epoch 5/10\n",
            "469/469 [==============================] - 52s 111ms/step - loss: 0.1242 - accuracy: 0.9675 - val_loss: 0.0691 - val_accuracy: 0.9792\n",
            "Epoch 6/10\n",
            "469/469 [==============================] - 52s 111ms/step - loss: 0.1116 - accuracy: 0.9709 - val_loss: 0.0434 - val_accuracy: 0.9875\n",
            "Epoch 7/10\n",
            "469/469 [==============================] - 52s 111ms/step - loss: 0.0998 - accuracy: 0.9738 - val_loss: 0.0536 - val_accuracy: 0.9857\n",
            "Epoch 8/10\n",
            "469/469 [==============================] - 52s 112ms/step - loss: 0.0944 - accuracy: 0.9746 - val_loss: 0.0368 - val_accuracy: 0.9888\n",
            "Epoch 9/10\n",
            "469/469 [==============================] - 52s 112ms/step - loss: 0.0845 - accuracy: 0.9782 - val_loss: 0.0423 - val_accuracy: 0.9881\n",
            "Epoch 10/10\n",
            "469/469 [==============================] - 53s 112ms/step - loss: 0.0816 - accuracy: 0.9788 - val_loss: 0.0478 - val_accuracy: 0.9877\n",
            "Test loss: 0.04779037833213806\n",
            "Test accuracy: 98.77%\n"
          ],
          "name": "stdout"
        },
        {
          "output_type": "display_data",
          "data": {
            "image/png": "[encoded data removed]",
            "text/plain": [
              "<Figure size 432x288 with 1 Axes>"
            ]
          },
          "metadata": {
            "needs_background": "light"
          }
        }
      ]
    },
    {
      "cell_type": "code",
      "metadata": {
        "colab": {
          "base_uri": "https://localhost:8080/"
        },
        "id": "FkKvOZCLF4_i",
        "outputId": "070691f8-0470-4872-afdf-7fca64270ef4"
      },
      "source": [
        "!ls models"
      ],
      "execution_count": 47,
      "outputs": [
        {
          "output_type": "stream",
          "text": [
            "mnist_cnn1.h5\n"
          ],
          "name": "stdout"
        }
      ]
    }
  ]
}